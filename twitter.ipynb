{
 "cells": [
  {
   "cell_type": "code",
   "execution_count": 1,
   "id": "9f913d6f",
   "metadata": {
    "scrolled": false
   },
   "outputs": [
    {
     "name": "stdout",
     "output_type": "stream",
     "text": [
      "Requirement already satisfied: tweeterpy in c:\\users\\andre\\anaconda3\\lib\\site-packages (0.0.1)\n",
      "Requirement already satisfied: tzlocal==5.0.1 in c:\\users\\andre\\anaconda3\\lib\\site-packages (from tweeterpy) (5.0.1)\n",
      "Requirement already satisfied: soupsieve==2.4.1 in c:\\users\\andre\\anaconda3\\lib\\site-packages (from tweeterpy) (2.4.1)\n",
      "Requirement already satisfied: tzdata==2023.3 in c:\\users\\andre\\anaconda3\\lib\\site-packages (from tweeterpy) (2023.3)\n",
      "Requirement already satisfied: lxml==4.9.2 in c:\\users\\andre\\anaconda3\\lib\\site-packages (from tweeterpy) (4.9.2)\n",
      "Requirement already satisfied: Js2Py==0.74 in c:\\users\\andre\\anaconda3\\lib\\site-packages (from tweeterpy) (0.74)\n",
      "Requirement already satisfied: six==1.16.0 in c:\\users\\andre\\anaconda3\\lib\\site-packages (from tweeterpy) (1.16.0)\n",
      "Requirement already satisfied: bs4==0.0.1 in c:\\users\\andre\\anaconda3\\lib\\site-packages (from tweeterpy) (0.0.1)\n",
      "Requirement already satisfied: idna==3.4 in c:\\users\\andre\\anaconda3\\lib\\site-packages (from tweeterpy) (3.4)\n",
      "Requirement already satisfied: charset-normalizer==3.1.0 in c:\\users\\andre\\anaconda3\\lib\\site-packages (from tweeterpy) (3.1.0)\n",
      "Requirement already satisfied: beautifulsoup4==4.12.2 in c:\\users\\andre\\anaconda3\\lib\\site-packages (from tweeterpy) (4.12.2)\n",
      "Requirement already satisfied: urllib3==2.0.3 in c:\\users\\andre\\anaconda3\\lib\\site-packages (from tweeterpy) (2.0.3)\n",
      "Requirement already satisfied: certifi==2023.5.7 in c:\\users\\andre\\anaconda3\\lib\\site-packages (from tweeterpy) (2023.5.7)\n",
      "Requirement already satisfied: requests==2.31.0 in c:\\users\\andre\\anaconda3\\lib\\site-packages (from tweeterpy) (2.31.0)\n",
      "Requirement already satisfied: pyjsparser==2.7.1 in c:\\users\\andre\\anaconda3\\lib\\site-packages (from tweeterpy) (2.7.1)\n",
      "Note: you may need to restart the kernel to use updated packages.\n"
     ]
    }
   ],
   "source": [
    "pip install tweeterpy"
   ]
  },
  {
   "cell_type": "code",
   "execution_count": 10,
   "id": "e2677195",
   "metadata": {},
   "outputs": [
    {
     "name": "stdout",
     "output_type": "stream",
     "text": [
      "API Updated Successfully.\n",
      "10\r"
     ]
    }
   ],
   "source": [
    "import pandas as pd\n",
    "import csv\n",
    "from tweeterpy import TweeterPy\n",
    "from datetime import datetime, date, timezone\n",
    "import unicodedata\n",
    "\n",
    "twitter = TweeterPy()\n",
    "database = twitter.search(search_query='lacoste funk', #Edita aqui com a palavra ou frase que você quiser\n",
    "                          end_cursor=None,\n",
    "                          total=10, #Aqui é para limitar o número máximo de resultados que você quer buscar. Se não tiver um máximo, você coloca None\n",
    "                          search_filter='Latest') # Latest, Top, People, Photos, Videos (Product), tem que escrever com a maiúscula\n",
    "\n",
    "# Definir os limites da data de publicação desejada\n",
    "start_date = datetime(2020, 6, 1, tzinfo=timezone.utc) #Aqui você muda para filtrar data de início, formato ANO, MêS, DIA\n",
    "end_date = datetime(2023, 6, 30, tzinfo=timezone.utc) #Aqui você muda para filtrar data de fim, formato ANO, MêS, DIA\n",
    "\n",
    "# Extrair os dados relevantes do dicionário\n",
    "data = []\n",
    "for entry in database['data']:\n",
    "    tweet = entry['content']['itemContent']['tweet_results']['result']\n",
    "    tweet_id = tweet['rest_id']\n",
    "    created_at = tweet['legacy']['created_at']\n",
    "    created_datetime = datetime.strptime(created_at, \"%a %b %d %H:%M:%S %z %Y\").replace(tzinfo=timezone.utc)\n",
    "    if start_date <= created_datetime <= end_date:\n",
    "        user = tweet['core']['user_results']['result']\n",
    "        user_name = user['legacy']['name']\n",
    "        full_text = f\"{user_name}: {tweet['legacy']['full_text']}\"\n",
    "        full_text = full_text.replace('\\n', ' ')\n",
    "        full_text = unicodedata.normalize('NFKD', full_text).encode('ascii', 'ignore').decode('utf-8')\n",
    "        data.append([tweet_id, created_at, full_text])\n",
    "\n",
    "# Criar o DataFrame a partir dos dados\n",
    "df = pd.DataFrame(data, columns=['Tweet ID', 'Created At', 'Full Text'])\n",
    "\n",
    "# Remover linhas em branco\n",
    "df.dropna(subset=['Tweet ID', 'Created At', 'Full Text'], inplace=True)\n",
    "\n",
    "# Exportar para um arquivo CSV\n",
    "df.to_csv('tweets.csv', index=False, sep=\"|\", quoting=csv.QUOTE_ALL, encoding='utf-8')\n"
   ]
  },
  {
   "cell_type": "code",
   "execution_count": null,
   "id": "5f90c7e7",
   "metadata": {},
   "outputs": [],
   "source": []
  }
 ],
 "metadata": {
  "kernelspec": {
   "display_name": "Python 3 (ipykernel)",
   "language": "python",
   "name": "python3"
  },
  "language_info": {
   "codemirror_mode": {
    "name": "ipython",
    "version": 3
   },
   "file_extension": ".py",
   "mimetype": "text/x-python",
   "name": "python",
   "nbconvert_exporter": "python",
   "pygments_lexer": "ipython3",
   "version": "3.10.9"
  }
 },
 "nbformat": 4,
 "nbformat_minor": 5
}
